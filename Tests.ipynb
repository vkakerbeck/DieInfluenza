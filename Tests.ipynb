{
 "cells": [
  {
   "cell_type": "code",
   "execution_count": 3,
   "metadata": {
    "collapsed": true
   },
   "outputs": [],
   "source": [
    "import shapefile\n",
    "import matplotlib.pyplot as plt\n",
    "#shape = shapefile.Reader(\"C:/Users/Vivi/Desktop/hack4health_RKI-data-scripts/survstat/webservice/samples/NodeService/shapes/geojson/Simplified_3p_weightedArea/County_2016_V8.json\")\n"
   ]
  },
  {
   "cell_type": "code",
   "execution_count": 4,
   "metadata": {},
   "outputs": [
    {
     "name": "stdout",
     "output_type": "stream",
     "text": [
      "[[[9.929720184978956, 51.376483553024855],\n",
      "  [9.932307200388095, 51.39403376460894],\n",
      "  [9.911001301252794, 51.40674244336948],\n",
      "  [9.907216481331242, 51.42244333440605],\n",
      "  [9.851726137061135, 51.40267816285267],\n",
      "  [9.804691144962971, 51.41170433048657],\n",
      "  [9.791405934941082, 51.39051475068519],\n",
      "  [9.703196519965966, 51.36241365875251],\n",
      "  [9.721779072353401, 51.34982347280084],\n",
      "  [9.74660514584366, 51.3202723459622],\n",
      "  [9.769374216420097, 51.30801638698254],\n",
      "  [9.733472910070581, 51.2965209546861],\n",
      "  [9.680071999507144, 51.31224920591273],\n",
      "  [9.607977976903083, 51.327137364864555],\n",
      "  [9.569170008668614, 51.34129647541841],\n",
      "  [9.558434568574425, 51.35267505290349],\n",
      "  [9.549583536615579, 51.36025250590747],\n",
      "  [9.551276696215998, 51.36318177874208],\n",
      "  [9.579257827514812, 51.40225166703271],\n",
      "  [9.62584962434417, 51.40710727651607],\n",
      "  [9.644739280196925, 51.41956528100437],\n",
      "  [9.628775853909568, 51.445516088322954],\n",
      "  [9.64412314257154, 51.467305845290255],\n",
      "  [9.611334708903103, 51.49178057902783],\n",
      "  [9.587483422027617, 51.51762081642778],\n",
      "  [9.615857122048892, 51.52704682839246],\n",
      "  [9.623252205918282, 51.54270099935356],\n",
      "  [9.64891468925005, 51.553831096017475],\n",
      "  [9.673540687971848, 51.56972617150803],\n",
      "  [9.68649583464555, 51.583340345687795],\n",
      "  [9.743078359621201, 51.61596584710916],\n",
      "  [9.762136565226456, 51.61004923163644],\n",
      "  [9.826564962345106, 51.60484761849882],\n",
      "  [9.889922402901224, 51.61272348979323],\n",
      "  [9.916368144708196, 51.60454877112074],\n",
      "  [9.952814340427086, 51.60694080090871],\n",
      "  [9.961011636551158, 51.61919963381087],\n",
      "  [10.001798985069493, 51.61366319502492],\n",
      "  [10.03942176555102, 51.619007726302705],\n",
      "  [10.06772583229483, 51.61251982212509],\n",
      "  [10.104596590160053, 51.623680109786015],\n",
      "  [10.124220062426021, 51.61746416079789],\n",
      "  [10.139029023088822, 51.64192922370048],\n",
      "  [10.156790093056513, 51.6395980021945],\n",
      "  [10.155616899482204, 51.67624934749532],\n",
      "  [10.140177259668063, 51.709033858249086],\n",
      "  [10.117828977358617, 51.72829835607084],\n",
      "  [10.14569098094362, 51.74119698839702],\n",
      "  [10.154950320153118, 51.79489096946393],\n",
      "  [10.171034194537821, 51.809609768043174],\n",
      "  [10.216372550472904, 51.81754180212974],\n",
      "  [10.234566579757933, 51.83406138140293],\n",
      "  [10.272448554801143, 51.81488747560129],\n",
      "  [10.266866984635232, 51.796577219085],\n",
      "  [10.305327064998451, 51.774208915857216],\n",
      "  [10.35984179759619, 51.76982381965903],\n",
      "  [10.379872405680185, 51.79002566216144],\n",
      "  [10.396091885599086, 51.790077023163775],\n",
      "  [10.426469628199719, 51.77318594637539],\n",
      "  [10.500562096116193, 51.76456310982324],\n",
      "  [10.486432977507032, 51.705588877939114],\n",
      "  [10.506277652802922, 51.66565891476114],\n",
      "  [10.56900560552484, 51.6811496235106],\n",
      "  [10.60970835239178, 51.67703381527256],\n",
      "  [10.636332709037967, 51.666065337860765],\n",
      "  [10.652970088827034, 51.6440016784524],\n",
      "  [10.678593299327549, 51.63970086050047],\n",
      "  [10.640887622126066, 51.622747205895145],\n",
      "  [10.639978959367859, 51.58543609486717],\n",
      "  [10.667615050125542, 51.579416680112296],\n",
      "  [10.658102491797525, 51.55961726483051],\n",
      "  [10.604178655737588, 51.5806145499111],\n",
      "  [10.563525096074674, 51.55885137232377],\n",
      "  [10.511445299937089, 51.55796817748752],\n",
      "  [10.48983333283286, 51.57609851786912],\n",
      "  [10.429274150147048, 51.5936499391017],\n",
      "  [10.377424451262971, 51.58469079241287],\n",
      "  [10.379890500174207, 51.56402581479976],\n",
      "  [10.34331262356247, 51.520802899372754],\n",
      "  [10.3100723311921, 51.51645313809996],\n",
      "  [10.274007876694498, 51.48953118757854],\n",
      "  [10.246403540392151, 51.48503912448959],\n",
      "  [10.234415748635085, 51.4721547476822],\n",
      "  [10.207039222965255, 51.488403084068764],\n",
      "  [10.179486517571666, 51.47132530432423],\n",
      "  [10.175449294649258, 51.447289618868396],\n",
      "  [10.15338047480347, 51.44845040445318],\n",
      "  [10.118956007920072, 51.43212041365942],\n",
      "  [10.09182076531602, 51.43710427927238],\n",
      "  [10.080802396742857, 51.42660972608071],\n",
      "  [10.052658246762407, 51.431625957745844],\n",
      "  [10.038913445665111, 51.42135998148846],\n",
      "  [10.012214685904116, 51.421594181709764],\n",
      "  [9.988602134522377, 51.39922328096704],\n",
      "  [9.966753069771123, 51.396642653747314],\n",
      "  [9.929720184978956, 51.376483553024855]]]\n",
      "{'RKI_ID': '03159',\n",
      " 'RKI_NameDE': 'LK GÃ¶ttingen',\n",
      " 'RKI_NameEN': 'GÃ¶ttingen County'}\n"
     ]
    }
   ],
   "source": [
    "import json\n",
    "from pprint import pprint\n",
    "\n",
    "data = json.load(open(\"C:/Users/Vivi/Desktop/hack4health_RKI-data-scripts/survstat/webservice/samples/NodeService/shapes/geojson/Simplified_3p_weightedArea/County_2016_V8.json\"))\n",
    "\n",
    "pprint(data['features'][0]['geometry']['coordinates'])\n",
    "pprint(data['features'][0]['properties'])"
   ]
  },
  {
   "cell_type": "code",
   "execution_count": 6,
   "metadata": {},
   "outputs": [
    {
     "data": {
      "image/png": "[encoded data removed]",
      "text/plain": [
       "<matplotlib.figure.Figure at 0x22d434ba7b8>"
      ]
     },
     "metadata": {},
     "output_type": "display_data"
    }
   ],
   "source": [
    "plt.plot(data['features'][1]['geometry']['coordinates'][0])\n",
    "plt.show()"
   ]
  }
 ],
 "metadata": {
  "kernelspec": {
   "display_name": "Python 3",
   "language": "python",
   "name": "python3"
  },
  "language_info": {
   "codemirror_mode": {
    "name": "ipython",
    "version": 3
   },
   "file_extension": ".py",
   "mimetype": "text/x-python",
   "name": "python",
   "nbconvert_exporter": "python",
   "pygments_lexer": "ipython3",
   "version": "3.6.3"
  }
 },
 "nbformat": 4,
 "nbformat_minor": 2
}
